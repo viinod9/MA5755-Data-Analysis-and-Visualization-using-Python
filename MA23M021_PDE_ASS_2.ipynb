{
  "nbformat": 4,
  "nbformat_minor": 0,
  "metadata": {
    "colab": {
      "provenance": []
    },
    "kernelspec": {
      "name": "python3",
      "display_name": "Python 3"
    },
    "language_info": {
      "name": "python"
    }
  },
  "cells": [
    {
      "cell_type": "markdown",
      "source": [
        "**Ques(1.)**\n",
        "\n",
        "\n",
        "The faces of a thin square plate of length 24cm are perfectly insulated (to avoid any atmospherical effects). Assume that the side at y = 24 is kept at 20 degree celcius and all the other three sides are kept at zero degree celcius.\n",
        "\n",
        "\n",
        "The exact solution of the problem is\n",
        "$$\n",
        "⇒ u(x, y) = \\frac{80}{Π}  \\sum_{n=1}^{\\infty} \\frac{sin \\frac{(2n - 1)πx}{24} sinh \\frac{(2n - 1)πy}{24}}{(2n − 1)π . sinh (2n − 1)π }\n",
        "$$\n",
        "\n",
        "\n",
        "\n",
        " (a.) Discretize the PDE using second order central difference approximations and solve the resultant\n",
        "algebraic equations using Jacobi, Gauss- seidel and SOR methods. (Choose the number of grid\n",
        "points in x and y directions as variables and should be fixed during the execution of the code).\n",
        "\n",
        "\n",
        "(b) Compare your numerical solutions with the given exact solution and compute the absolute error\n",
        "for every case.\n",
        "\n"
      ],
      "metadata": {
        "id": "S6CGr5gsMJFt"
      }
    },
    {
      "cell_type": "code",
      "source": [
        "import numpy as np\n",
        "import matplotlib.pyplot as plt\n",
        "\n",
        "# exact solution...................................................\n",
        "def exact_solution(x, y):\n",
        "    u = 0\n",
        "    for n in range(1, 100):\n",
        "        u += (80 / np.pi) * (np.sin((2 * n - 1) * np.pi * x / 24) * np.sinh((2 * n - 1) * np.pi * y / 24)) / ((2 * n - 1) * np.pi * np.sinh((2 * n - 1) * np.pi))\n",
        "    return u\n",
        "\n",
        "# Gauss--Jacobi method.................................................\n",
        "def jacobi_(u, del_x, del_y, iter=50, toler=1e-5):\n",
        "    nx, ny = u.shape\n",
        "    u_new = u[:]\n",
        "    for it in range(iter):\n",
        "        error = 0.0\n",
        "        for i in range(1, nx - 1):\n",
        "            for j in range(1, ny - 1):\n",
        "                u_new[i, j] = 0.25 * (u[i-1, j] + u[i+1, j] + u[i, j-1] + u[i, j+1])\n",
        "                error = max(error, abs(u_new[i, j] - u[i, j]))\n",
        "        u = np.copy(u_new)\n",
        "        if error < toler:\n",
        "            break\n",
        "    return u\n",
        "\n",
        "# Gauss--Seidel method..............................................\n",
        "def gauss_seidel_(u_, del_x, del_y, iter= 50, toler=1e-5):\n",
        "    nx, ny = u_.shape\n",
        "    for ite in range(iter):\n",
        "        error = 0.0\n",
        "        for i in range(1, nx - 1):\n",
        "            for j in range(1, ny - 1):\n",
        "                u_[i, j] = 0.25 * (u_[i-1, j] + u_[i+1, j] + u_[i, j-1] + u_[i, j+1])\n",
        "                error = max(error, abs(u[i, j] - u[i, j]))\n",
        "        if error < toler:\n",
        "            break\n",
        "    return u_\n",
        "\n",
        "#  SOR method..........................................................\n",
        "def sor_method(u, del_x, del_y, omega, iter=50, toler=1e-5):\n",
        "    nx, ny = u.shape\n",
        "    for _ in range(iter):\n",
        "        error = 0.0\n",
        "        for i in range(1, nx - 1):\n",
        "            for j in range(1, ny - 1):\n",
        "                u_old = u[i, j]\n",
        "                u[i, j] = (1 - omega) * u[i, j] + omega * 0.25 * (u[i-1, j] + u[i+1, j] + u[i, j-1] + u[i, j+1])\n",
        "                error = max(error, abs(u[i, j] - u_old))\n",
        "        if error < toler:\n",
        "            break\n",
        "    return u\n",
        "\n",
        "\n"
      ],
      "metadata": {
        "id": "oaFZmgdaRqqK"
      },
      "execution_count": 1,
      "outputs": []
    },
    {
      "cell_type": "code",
      "source": [
        "# Maximum absolute error...............................\n",
        "def compute_absolute_error(u_numerical, u_exact):\n",
        "    error = np.abs(u_numerical - u_exact)\n",
        "    max_error = np.max(error)\n",
        "    return max_error\n",
        "\n",
        "# Parameters...................................\n",
        "\n",
        "# Length of plate..............................\n",
        "L = 24\n",
        "\n",
        "#grid points....................................\n",
        "Nx = 51\n",
        "Ny = 51\n",
        "del_x = L / (Nx - 1)\n",
        "del_y = L / (Ny - 1)\n",
        "x = np.linspace(0, L, Nx)\n",
        "y = np.linspace(0, L, Ny)\n",
        "X, Y = np.meshgrid(x, y)\n",
        "\n",
        "# boundary conditions....................................\n",
        "u = np.zeros((Nx, Ny))\n",
        "u[-1, :] = 20\n",
        "u[:, 0] = u[:, -1] = 0\n",
        "\n",
        "# exact solution........................................\n",
        "u_exact = exact_solution(X, Y)\n",
        "\n",
        "# using Jacobi method...................................\n",
        "u_jacobi = jacobi_(u.copy(), del_x, del_y)\n",
        "#print(u_jacobi)\n",
        "\n",
        "# using Gauss-Seidel method..............................\n",
        "u_gauss_seidel = gauss_seidel_(u.copy(), del_x, del_y)\n",
        "#print(u_gauss_seidel)\n",
        "\n",
        "# using SOR method.......................................\n",
        "omega = 1.5\n",
        "u_sor = sor_method(u.copy(), del_x, del_y, omega)\n",
        "#print(u_sor)\n",
        "\n",
        "# absolute errors for all the methods......................\n",
        "error_jacobi = compute_absolute_error(u_jacobi, u_exact)\n",
        "print(\"Absolute error (Jacobi method):\", error_jacobi)\n",
        "\n",
        "error_gauss_seidel = compute_absolute_error(u_gauss_seidel, u_exact)\n",
        "print(\"Absolute error (Gauss-Seidel method):\", error_gauss_seidel)\n",
        "\n",
        "error_sor = compute_absolute_error(u_sor, u_exact)\n",
        "print(\"Absolute error (SOR method):\", error_sor)"
      ],
      "metadata": {
        "colab": {
          "base_uri": "https://localhost:8080/"
        },
        "id": "2CliQxUdRqr_",
        "outputId": "418e981e-bc7f-4239-8ab5-e3ae4144ddc9"
      },
      "execution_count": 2,
      "outputs": [
        {
          "output_type": "stream",
          "name": "stdout",
          "text": [
            "Absolute error (Jacobi method): 13.950153046331199\n",
            "Absolute error (Gauss-Seidel method): 13.950153046331199\n",
            "Absolute error (SOR method): 13.950153046331199\n"
          ]
        }
      ]
    },
    {
      "cell_type": "code",
      "source": [
        "# Plotting\n",
        "plt.figure(figsize=(12, 5))\n",
        "\n",
        "plt.subplot(1, 3, 1)\n",
        "plt.title('plot of Jacobi Method')\n",
        "plt.contourf(X, Y, u_jacobi, cmap='coolwarm')\n",
        "plt.colorbar(label='Temp')\n",
        "plt.xlabel('x')\n",
        "plt.ylabel('y')\n",
        "\n",
        "plt.subplot(1, 3, 2)\n",
        "plt.title('plot of Gauss-Seidel Method')\n",
        "plt.contourf(X, Y, u_gauss_seidel, cmap='coolwarm')\n",
        "plt.colorbar(label='Temp')\n",
        "plt.xlabel('x')\n",
        "plt.ylabel('y')\n",
        "\n",
        "plt.subplot(1, 3, 3)\n",
        "plt.title('plot of SOR Method')\n",
        "plt.contourf(X, Y, u_sor, cmap='coolwarm')\n",
        "plt.colorbar(label='Temp')\n",
        "plt.xlabel('x')\n",
        "plt.ylabel('y')\n",
        "\n",
        "plt.tight_layout()\n",
        "plt.show()"
      ],
      "metadata": {
        "id": "eEIb-wMETWGI",
        "colab": {
          "base_uri": "https://localhost:8080/",
          "height": 507
        },
        "outputId": "357cae60-1409-43d6-f654-0406729dfe19"
      },
      "execution_count": 3,
      "outputs": [
        {
          "output_type": "display_data",
          "data": {
            "text/plain": [
              "<Figure size 1200x500 with 6 Axes>"
            ],
            "image/png": "[encoded data removed]"
          },
          "metadata": {}
        }
      ]
    }
  ]
}